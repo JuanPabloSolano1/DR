{
 "cells": [
  {
   "cell_type": "code",
   "execution_count": null,
   "metadata": {},
   "outputs": [
    {
     "name": "stdout",
     "output_type": "stream",
     "text": [
      "Include an action Search or Include: Include\n",
      "Which name do you want to include? : Erika\n",
      "{'name2': 'Erika', 'name1': 'Juan'}\n",
      "Include an action Search or Include: Search\n",
      "Include a name: Pedro\n",
      "That name doesnt exits please include it in step # 1\n",
      "Include an action Search or Include: Include\n",
      "Which name do you want to include? : Pedro\n",
      "{'name2': 'Erika', 'name3': 'Pedro', 'name1': 'Juan'}\n",
      "Include an action Search or Include: Search\n",
      "Include a name: Pedro\n",
      "That name exists and is stored in the database\n"
     ]
    }
   ],
   "source": [
    "Birthdays = {'name1': 'Juan'}\n",
    "\n",
    "while True:\n",
    "    action = raw_input('Include an action Search or Include: ')\n",
    "    if action == 'Search':\n",
    "        bday = raw_input('Include a name: ')\n",
    "        if bday in Birthdays.values():\n",
    "            print('That name exists and is stored in the database')\n",
    "        else:    \n",
    "            print('That name doesnt exits please include it in step # 1')\n",
    "    elif action == 'Include':\n",
    "        bday = raw_input('Which name do you want to include? : ')\n",
    "        Birthdays['name{}'.format(len(Birthdays)+ 1)] = bday\n",
    "        print(Birthdays)\n",
    "        \n",
    "    else:\n",
    "        print('Please provide an action: ')"
   ]
  },
  {
   "cell_type": "code",
   "execution_count": null,
   "metadata": {},
   "outputs": [],
   "source": []
  }
 ],
 "metadata": {
  "kernelspec": {
   "display_name": "Python 2",
   "language": "python",
   "name": "python2"
  },
  "language_info": {
   "codemirror_mode": {
    "name": "ipython",
    "version": 2
   },
   "file_extension": ".py",
   "mimetype": "text/x-python",
   "name": "python",
   "nbconvert_exporter": "python",
   "pygments_lexer": "ipython2",
   "version": "2.7.13"
  }
 },
 "nbformat": 4,
 "nbformat_minor": 2
}
