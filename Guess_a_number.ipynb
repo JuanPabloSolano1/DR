{
 "cells": [
  {
   "cell_type": "code",
   "execution_count": 2,
   "metadata": {},
   "outputs": [
    {
     "name": "stdout",
     "output_type": "stream",
     "text": [
      "Guess a number between 1 and 20\n",
      "include a number: 7\n",
      "The guess was to high\n",
      "Guess a number between 1 and 20\n",
      "include a number: 4\n",
      "The guess was to high\n",
      "Guess a number between 1 and 20\n",
      "include a number: 2\n",
      "The guess was to high\n",
      "Guess a number between 1 and 20\n",
      "include a number: 1\n",
      "You guessed the number in 3 guesses\n"
     ]
    }
   ],
   "source": [
    "from random import randint\n",
    "my_guess = randint(1,20)\n",
    "count = 0\n",
    "\n",
    "while True:\n",
    "    print('Guess a number between 1 and 20')\n",
    "    variable_1 = int(raw_input('include a number: '))\n",
    "    if variable_1 > my_guess:\n",
    "        print('The guess was to high')\n",
    "        count += 1\n",
    "        continue\n",
    "    elif variable_1 < my_guess:\n",
    "        print('The guess was to low')\n",
    "        count += 1\n",
    "        continue\n",
    "    else:\n",
    "        print('You guessed the number in {} guesses'.format(count))\n",
    "        break"
   ]
  },
  {
   "cell_type": "code",
   "execution_count": null,
   "metadata": {},
   "outputs": [],
   "source": []
  }
 ],
 "metadata": {
  "kernelspec": {
   "display_name": "Python 2",
   "language": "python",
   "name": "python2"
  },
  "language_info": {
   "codemirror_mode": {
    "name": "ipython",
    "version": 2
   },
   "file_extension": ".py",
   "mimetype": "text/x-python",
   "name": "python",
   "nbconvert_exporter": "python",
   "pygments_lexer": "ipython2",
   "version": "2.7.13"
  }
 },
 "nbformat": 4,
 "nbformat_minor": 2
}
