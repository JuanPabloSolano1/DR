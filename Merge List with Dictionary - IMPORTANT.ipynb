{
 "cells": [
  {
   "cell_type": "code",
   "execution_count": 75,
   "metadata": {},
   "outputs": [
    {
     "name": "stdout",
     "output_type": "stream",
     "text": [
      "This is the inventory: \n",
      "rope 1\n",
      "gold coin 45\n",
      "dagger 1\n",
      "ruby 1\n",
      "The total amount of items are : 48\n"
     ]
    }
   ],
   "source": [
    "\n",
    "inventory = {\n",
    "    'rope': 1,\n",
    "    'gold coin': 42,\n",
    "    }\n",
    "dragon_loot = ['gold coin', 'dagger', 'gold coin', 'gold coin', 'ruby']\n",
    "\n",
    "def check_inventory(inventory,dragon_loot):\n",
    "    for item in dragon_loot:\n",
    "        inventory[item] = inventory.get(item,0) + 1\n",
    "    print('This is the inventory: ') \n",
    "    final_number = 0\n",
    "    for k,v in inventory.items():\n",
    "        print k , v \n",
    "        final_number = final_number + v \n",
    "    print 'The total amount of items are : {}'.format(final_number) \n",
    "\n",
    "check_inventory(inventory,dragon_loot) \n",
    "    "
   ]
  },
  {
   "cell_type": "code",
   "execution_count": null,
   "metadata": {},
   "outputs": [],
   "source": []
  },
  {
   "cell_type": "code",
   "execution_count": null,
   "metadata": {},
   "outputs": [],
   "source": []
  }
 ],
 "metadata": {
  "kernelspec": {
   "display_name": "Python 2",
   "language": "python",
   "name": "python2"
  },
  "language_info": {
   "codemirror_mode": {
    "name": "ipython",
    "version": 2
   },
   "file_extension": ".py",
   "mimetype": "text/x-python",
   "name": "python",
   "nbconvert_exporter": "python",
   "pygments_lexer": "ipython2",
   "version": "2.7.13"
  }
 },
 "nbformat": 4,
 "nbformat_minor": 2
}
