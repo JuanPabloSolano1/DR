{
  "nbformat": 4,
  "nbformat_minor": 0,
  "metadata": {
    "colab": {
      "name": "Pokemon Dataset",
      "version": "0.3.2",
      "provenance": [],
      "include_colab_link": true
    },
    "kernelspec": {
      "name": "python2",
      "display_name": "Python 2"
    }
  },
  "cells": [
    {
      "cell_type": "markdown",
      "metadata": {
        "id": "view-in-github",
        "colab_type": "text"
      },
      "source": [
        "<a href=\"https://colab.research.google.com/github/JuanPabloSolano1/DR/blob/master/Pokemon_Dataset.ipynb\" target=\"_parent\"><img src=\"https://colab.research.google.com/assets/colab-badge.svg\" alt=\"Open In Colab\"/></a>"
      ]
    },
    {
      "metadata": {
        "id": "PD0c_sSfdcNb",
        "colab_type": "code",
        "outputId": "ed190530-941c-4e87-b389-2207e9142473",
        "colab": {
          "base_uri": "https://localhost:8080/",
          "height": 818
        }
      },
      "cell_type": "code",
      "source": [
        "import pandas as pd\n",
        "import numpy as np\n",
        "import seaborn as sns\n",
        "import matplotlib as plt\n",
        "\n",
        "\n",
        "raw_data = {\"name\": ['Bulbasaur', 'Charmander','Squirtle','Caterpie'],\n",
        "            \"evolution\": ['Ivysaur','Charmeleon','Wartortle','Metapod'],\n",
        "            \"type\": ['grass', 'fire', 'water', 'bug'],\n",
        "            \"hp\": [45, 39, 44, 45],\n",
        "            \"pokedex\": ['yes', 'no','yes','no']                        \n",
        "            }    \n",
        "\n",
        "pokemon = pd.DataFrame(raw_data)   \n",
        "\n",
        "pokemon = pokemon[['name','type','hp','evolution','pokedex']]\n",
        "\n",
        "\n",
        "pokemon['place'] = ['building', 'house','car','airplane']\n",
        "print(pokemon)\n",
        "\n",
        "pokemon.info()\n",
        "\n",
        "pokemon[pokemon.hp > 44]\n",
        "pokemon.describe()\n",
        "\n",
        "pokemon[pokemon.pokedex == \"no\"][pokemon.name == \"Charmander\"]\n",
        "\n",
        "def change_hp(x):\n",
        "  if type (x) == int:\n",
        "    return x * 30 \n",
        "  else:\n",
        "    return x\n",
        "\n",
        "\n",
        "def change_name(x):\n",
        "  if type (x) != int:\n",
        "    return x + 'y'  \n",
        "  else:\n",
        "    return x  \n",
        "pokemon.applymap(change_hp)\n",
        "pokemon.applymap(change_name)\n",
        "\n",
        "g = sns.pairplot(pokemon, hue = 'hp', size = 7)\n",
        "g.fig.suptitle(\"Pokemon\")\n",
        "\n"
      ],
      "execution_count": 0,
      "outputs": [
        {
          "output_type": "stream",
          "text": [
            "         name   type  hp   evolution pokedex     place\n",
            "0   Bulbasaur  grass  45     Ivysaur     yes  building\n",
            "1  Charmander   fire  39  Charmeleon      no     house\n",
            "2    Squirtle  water  44   Wartortle     yes       car\n",
            "3    Caterpie    bug  45     Metapod      no  airplane\n",
            "<class 'pandas.core.frame.DataFrame'>\n",
            "RangeIndex: 4 entries, 0 to 3\n",
            "Data columns (total 6 columns):\n",
            "name         4 non-null object\n",
            "type         4 non-null object\n",
            "hp           4 non-null int64\n",
            "evolution    4 non-null object\n",
            "pokedex      4 non-null object\n",
            "place        4 non-null object\n",
            "dtypes: int64(1), object(5)\n",
            "memory usage: 264.0+ bytes\n"
          ],
          "name": "stdout"
        },
        {
          "output_type": "stream",
          "text": [
            "/usr/local/lib/python2.7/dist-packages/ipykernel_launcher.py:27: UserWarning: Boolean Series key will be reindexed to match DataFrame index.\n"
          ],
          "name": "stderr"
        },
        {
          "output_type": "execute_result",
          "data": {
            "text/plain": [
              "Text(0.5,0.98,'Pokemon')"
            ]
          },
          "metadata": {
            "tags": []
          },
          "execution_count": 65
        },
        {
          "output_type": "display_data",
          "data": {
            "image/png": "[encoded data removed]",
            "text/plain": [
              "<Figure size 551.25x504 with 2 Axes>"
            ]
          },
          "metadata": {
            "tags": []
          }
        }
      ]
    }
  ]
}