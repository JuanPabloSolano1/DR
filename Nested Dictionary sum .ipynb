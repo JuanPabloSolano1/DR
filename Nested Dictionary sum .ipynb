{
 "cells": [
  {
   "cell_type": "code",
   "execution_count": 2,
   "metadata": {},
   "outputs": [
    {
     "name": "stdout",
     "output_type": "stream",
     "text": [
      "They brought this number of apples: 7\n",
      "They brought this number of pretzels: 12\n",
      "They brought this number of apple pies: 7\n",
      "They brought this number of ham: 3\n",
      "They brought this number of cups: 3\n"
     ]
    }
   ],
   "source": [
    "allGuests = {'Alice': {'apples':5,'pretzels': 12, 'apple pies': 6},\n",
    "            'Bob': {'ham': 3,'apples': 2},\n",
    "            'Carol':{'cups': 3, 'apple pies': 1}\n",
    "}\n",
    "\n",
    "\n",
    "def sum_number(allGuests,item):\n",
    "    num_brought = 0 \n",
    "    for k,v in allGuests.items():\n",
    "        num_brought = num_brought + v.get(item,0)\n",
    "    return num_brought\n",
    "\n",
    "print('They brought this number of apples: ' + str(sum_number(allGuests,'apples')))\n",
    "print('They brought this number of pretzels: ' + str(sum_number(allGuests,'pretzels')))\n",
    "print('They brought this number of apple pies: ' + str(sum_number(allGuests,'apple pies')))\n",
    "print('They brought this number of ham: ' + str(sum_number(allGuests,'ham')))\n",
    "print('They brought this number of cups: ' + str(sum_number(allGuests,'cups')))"
   ]
  },
  {
   "cell_type": "code",
   "execution_count": null,
   "metadata": {},
   "outputs": [],
   "source": []
  }
 ],
 "metadata": {
  "kernelspec": {
   "display_name": "Python 2",
   "language": "python",
   "name": "python2"
  },
  "language_info": {
   "codemirror_mode": {
    "name": "ipython",
    "version": 2
   },
   "file_extension": ".py",
   "mimetype": "text/x-python",
   "name": "python",
   "nbconvert_exporter": "python",
   "pygments_lexer": "ipython2",
   "version": "2.7.13"
  }
 },
 "nbformat": 4,
 "nbformat_minor": 2
}
