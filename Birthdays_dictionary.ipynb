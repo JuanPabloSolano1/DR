{
 "cells": [
  {
   "cell_type": "code",
   "execution_count": null,
   "metadata": {},
   "outputs": [
    {
     "name": "stdout",
     "output_type": "stream",
     "text": [
      "Include a Name: Juan\n",
      "the name Juan has a birthday of 1986/10/05\n",
      "Include a Name: Pedro\n",
      "the name Pedro has a birthday of 1987/10/03\n",
      "Include a Name: Mauricio\n",
      "include a birthday: 1988/01/03\n",
      "{'Mauricio': '1988/01/03', 'Juan': '1986/10/05', 'Pedro': '1987/10/03'}\n",
      "Include a Name: Mauricio\n",
      "the name Mauricio has a birthday of 1988/01/03\n",
      "Include a Name: Erika\n",
      "include a birthday: 1986/03/04\n",
      "{'Mauricio': '1988/01/03', 'Juan': '1986/10/05', 'Pedro': '1987/10/03', 'Erika': '1986/03/04'}\n",
      "Include a Name: Erika\n",
      "the name Erika has a birthday of 1986/03/04\n"
     ]
    }
   ],
   "source": [
    "birthdays = {'Juan': '1986/10/05', 'Pedro': '1987/10/03'}\n",
    "while True: \n",
    "    bday = raw_input('Include a Name: ')\n",
    "    if bday in birthdays:\n",
    "        print('the name {} has a birthday of {}'.format(bday,birthdays[str(bday)]))\n",
    "    else:\n",
    "        birthday_entry = raw_input('include a birthday: ')\n",
    "        birthdays[bday] = birthday_entry\n",
    "        print(birthdays)"
   ]
  },
  {
   "cell_type": "code",
   "execution_count": null,
   "metadata": {},
   "outputs": [],
   "source": []
  }
 ],
 "metadata": {
  "kernelspec": {
   "display_name": "Python 2",
   "language": "python",
   "name": "python2"
  },
  "language_info": {
   "codemirror_mode": {
    "name": "ipython",
    "version": 2
   },
   "file_extension": ".py",
   "mimetype": "text/x-python",
   "name": "python",
   "nbconvert_exporter": "python",
   "pygments_lexer": "ipython2",
   "version": "2.7.13"
  }
 },
 "nbformat": 4,
 "nbformat_minor": 2
}
