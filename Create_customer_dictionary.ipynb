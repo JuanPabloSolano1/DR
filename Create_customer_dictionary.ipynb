{
 "cells": [
  {
   "cell_type": "code",
   "execution_count": null,
   "metadata": {},
   "outputs": [
    {
     "name": "stdout",
     "output_type": "stream",
     "text": [
      "Include a customer id: 12345\n",
      "The company name is: JP Company\n",
      "Include a customer id: 67564\n",
      "Customer Id is not in the database, please include company name\n",
      "Please Include Company Name: Erika shop and book store\n",
      "{'12345': 'JP Company', '26473': 'Erika shop and book store'}\n",
      "Include a customer id: 26473\n",
      "The company name is: Erika shop and book store\n",
      "Include a customer id: 617627\n",
      "Customer Id is not in the database, please include company name\n",
      "Please Include Company Name: Andres retail\n",
      "{'52813': 'Andres retail', '12345': 'JP Company', '26473': 'Erika shop and book store'}\n",
      "Include a customer id: 52813\n",
      "The company name is: Andres retail\n"
     ]
    }
   ],
   "source": [
    "import random\n",
    "Dictionary = {'12345': 'JP Company'}\n",
    "while True: \n",
    "    customer_id = raw_input('Include a customer id: ')\n",
    "    if customer_id in Dictionary:\n",
    "        print 'The company name is: ' + Dictionary[customer_id]\n",
    "    else:\n",
    "        print('Customer Id is not in the database, please include company name')\n",
    "        company_name = raw_input('Please Include Company Name: ')\n",
    "        numbers = '1234567890'\n",
    "        size = 5\n",
    "        check_1 = random.sample(numbers,size)\n",
    "        check_2 = \"\".join(check_1)\n",
    "        Dictionary[str(check_2)] = company_name\n",
    "        print(Dictionary)"
   ]
  },
  {
   "cell_type": "code",
   "execution_count": null,
   "metadata": {},
   "outputs": [],
   "source": []
  }
 ],
 "metadata": {
  "kernelspec": {
   "display_name": "Python 2",
   "language": "python",
   "name": "python2"
  },
  "language_info": {
   "codemirror_mode": {
    "name": "ipython",
    "version": 2
   },
   "file_extension": ".py",
   "mimetype": "text/x-python",
   "name": "python",
   "nbconvert_exporter": "python",
   "pygments_lexer": "ipython2",
   "version": "2.7.13"
  }
 },
 "nbformat": 4,
 "nbformat_minor": 2
}
