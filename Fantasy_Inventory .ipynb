{
 "cells": [
  {
   "cell_type": "code",
   "execution_count": 47,
   "metadata": {},
   "outputs": [],
   "source": [
    "fantasy_game = {'rope': 1,'torch': 6, 'gold coin': 42, 'dagger': 1, 'arrow':12}"
   ]
  },
  {
   "cell_type": "code",
   "execution_count": 48,
   "metadata": {},
   "outputs": [
    {
     "name": "stdout",
     "output_type": "stream",
     "text": [
      "The inventory is: \n",
      "1 ropes\n",
      "42 gold coins\n",
      "6 torchs\n",
      "1 daggers\n",
      "12 arrows\n",
      "The total number of items in the inventory are : 62\n"
     ]
    }
   ],
   "source": [
    "\n",
    "def inventory(fantasy_game):\n",
    "    inventory = 0\n",
    "    print('The inventory is: ')\n",
    "    for k,v in fantasy_game.items():\n",
    "        inventory = inventory + v\n",
    "        if v >= 1:\n",
    "            print v,k + 's'\n",
    "    print('The total number of items in the inventory are : {}'.format(inventory))         \n",
    "inventory(fantasy_game)        \n"
   ]
  },
  {
   "cell_type": "code",
   "execution_count": null,
   "metadata": {},
   "outputs": [],
   "source": []
  }
 ],
 "metadata": {
  "kernelspec": {
   "display_name": "Python 2",
   "language": "python",
   "name": "python2"
  },
  "language_info": {
   "codemirror_mode": {
    "name": "ipython",
    "version": 2
   },
   "file_extension": ".py",
   "mimetype": "text/x-python",
   "name": "python",
   "nbconvert_exporter": "python",
   "pygments_lexer": "ipython2",
   "version": "2.7.13"
  }
 },
 "nbformat": 4,
 "nbformat_minor": 2
}
