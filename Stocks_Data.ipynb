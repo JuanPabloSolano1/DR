{
  "nbformat": 4,
  "nbformat_minor": 0,
  "metadata": {
    "colab": {
      "name": "Stocks - Data",
      "version": "0.3.2",
      "provenance": [],
      "include_colab_link": true
    },
    "kernelspec": {
      "name": "python3",
      "display_name": "Python 3"
    }
  },
  "cells": [
    {
      "cell_type": "markdown",
      "metadata": {
        "id": "view-in-github",
        "colab_type": "text"
      },
      "source": [
        "<a href=\"https://colab.research.google.com/github/JuanPabloSolano1/DR/blob/master/Stocks_Data.ipynb\" target=\"_parent\"><img src=\"https://colab.research.google.com/assets/colab-badge.svg\" alt=\"Open In Colab\"/></a>"
      ]
    },
    {
      "metadata": {
        "id": "1FyG0fSDrDbv",
        "colab_type": "code",
        "outputId": "f740bf7d-9d3e-4ea3-edfd-1484ade1bfb4",
        "colab": {
          "base_uri": "https://localhost:8080/",
          "height": 334
        }
      },
      "cell_type": "code",
      "source": [
        "\n",
        "import pandas as pd\n",
        "\n",
        "# package to extract data from various Internet sources into a DataFrame\n",
        "# make sure you have it installed\n",
        "import pandas_datareader.data as web\n",
        "\n",
        "# package for dates\n",
        "import datetime as dt\n",
        "\n",
        "start = dt.datetime(2018,1,1)\n",
        "end = dt.datetime.now()\n",
        "\n",
        "\n",
        "stocks = ['AAPL', 'TSLA', 'IBM', 'LNKD']\n",
        "\n",
        "df = web.DataReader(stocks, 'yahoo', start, end)\n",
        "df.head(5)\n",
        "vol = df['Volume']\n",
        "print(vol.head(2))\n",
        "\n",
        "vol['weekly'] = df.index.weekly\n",
        "vol['monthly'] = df.index.monthly\n",
        "\n",
        "week = vol.groupby('weekly').sum()\n",
        "week.head()\n",
        "\n",
        "vol['year'] = df.index.year\n",
        "year_2015 = vol.groupby(['year']).sum()"
      ],
      "execution_count": 1,
      "outputs": [
        {
          "output_type": "stream",
          "text": [
            "Symbols           AAPL        IBM  LNKD       TSLA\n",
            "Date                                              \n",
            "2018-01-02  25555900.0  4202500.0   NaN  4352200.0\n",
            "2018-01-03  29517900.0  9441600.0   NaN  4521500.0\n"
          ],
          "name": "stdout"
        },
        {
          "output_type": "stream",
          "text": [
            "/usr/local/lib/python3.6/dist-packages/pandas_datareader/base.py:230: SymbolWarning: Failed to read symbol: 'LNKD', replacing with NaN.\n",
            "  warnings.warn(msg.format(sym), SymbolWarning)\n"
          ],
          "name": "stderr"
        },
        {
          "output_type": "error",
          "ename": "AttributeError",
          "evalue": "ignored",
          "traceback": [
            "\u001b[0;31m---------------------------------------------------------------------------\u001b[0m",
            "\u001b[0;31mAttributeError\u001b[0m                            Traceback (most recent call last)",
            "\u001b[0;32m<ipython-input-1-7206990a130f>\u001b[0m in \u001b[0;36m<module>\u001b[0;34m()\u001b[0m\n\u001b[1;32m     20\u001b[0m \u001b[0mprint\u001b[0m\u001b[0;34m(\u001b[0m\u001b[0mvol\u001b[0m\u001b[0;34m.\u001b[0m\u001b[0mhead\u001b[0m\u001b[0;34m(\u001b[0m\u001b[0;36m2\u001b[0m\u001b[0;34m)\u001b[0m\u001b[0;34m)\u001b[0m\u001b[0;34m\u001b[0m\u001b[0;34m\u001b[0m\u001b[0m\n\u001b[1;32m     21\u001b[0m \u001b[0;34m\u001b[0m\u001b[0m\n\u001b[0;32m---> 22\u001b[0;31m \u001b[0mvol\u001b[0m\u001b[0;34m[\u001b[0m\u001b[0;34m'weekly'\u001b[0m\u001b[0;34m]\u001b[0m \u001b[0;34m=\u001b[0m \u001b[0mdf\u001b[0m\u001b[0;34m.\u001b[0m\u001b[0mindex\u001b[0m\u001b[0;34m.\u001b[0m\u001b[0mweekly\u001b[0m\u001b[0;34m\u001b[0m\u001b[0;34m\u001b[0m\u001b[0m\n\u001b[0m\u001b[1;32m     23\u001b[0m \u001b[0mvol\u001b[0m\u001b[0;34m[\u001b[0m\u001b[0;34m'monthly'\u001b[0m\u001b[0;34m]\u001b[0m \u001b[0;34m=\u001b[0m \u001b[0mdf\u001b[0m\u001b[0;34m.\u001b[0m\u001b[0mindex\u001b[0m\u001b[0;34m.\u001b[0m\u001b[0mmonthly\u001b[0m\u001b[0;34m\u001b[0m\u001b[0;34m\u001b[0m\u001b[0m\n\u001b[1;32m     24\u001b[0m \u001b[0;34m\u001b[0m\u001b[0m\n",
            "\u001b[0;31mAttributeError\u001b[0m: 'DatetimeIndex' object has no attribute 'weekly'"
          ]
        }
      ]
    }
  ]
}