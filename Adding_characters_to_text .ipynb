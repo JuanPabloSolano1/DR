{
 "cells": [
  {
   "cell_type": "code",
   "execution_count": 5,
   "metadata": {},
   "outputs": [],
   "source": [
    "#Example\n",
    "\n",
    "#start\n",
    "#Animals originally evolved in the sea.\n",
    "#Lineages of arthropods colonised land around the same time as land plants\n",
    "\n",
    "import pyperclip\n",
    "\n",
    "text = pyperclip.paste()\n",
    "\n",
    "line = text.split('\\n')\n",
    "for i in range(len(line)):\n",
    "    line[i] = 'Add a word ' + line[i]\n",
    "\n",
    "text =  '\\n'.join(line)\n",
    "\n",
    "pyperclip.copy(text)"
   ]
  },
  {
   "cell_type": "code",
   "execution_count": null,
   "metadata": {},
   "outputs": [],
   "source": [
    "Add a word #Animals originally evolved in the sea.\n",
    "Add a word #Lineages of arthropods colonised land around the same time as land plants"
   ]
  }
 ],
 "metadata": {
  "kernelspec": {
   "display_name": "Python 2",
   "language": "python",
   "name": "python2"
  },
  "language_info": {
   "codemirror_mode": {
    "name": "ipython",
    "version": 2
   },
   "file_extension": ".py",
   "mimetype": "text/x-python",
   "name": "python",
   "nbconvert_exporter": "python",
   "pygments_lexer": "ipython2",
   "version": "2.7.13"
  }
 },
 "nbformat": 4,
 "nbformat_minor": 2
}
