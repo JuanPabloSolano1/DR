{
 "cells": [
  {
   "cell_type": "code",
   "execution_count": null,
   "metadata": {},
   "outputs": [],
   "source": [
    "try: \n",
    "    result = 10 + 10\n",
    "except:\n",
    "    print('You cannot recreate and do the sum')\n",
    "    "
   ]
  },
  {
   "cell_type": "code",
   "execution_count": null,
   "metadata": {},
   "outputs": [],
   "source": [
    "result"
   ]
  },
  {
   "cell_type": "code",
   "execution_count": null,
   "metadata": {},
   "outputs": [],
   "source": [
    "try: \n",
    "    result = 10 + '10'\n",
    "except:\n",
    "    print('You cannot recreate and do the sum')"
   ]
  },
  {
   "cell_type": "code",
   "execution_count": null,
   "metadata": {},
   "outputs": [],
   "source": [
    "try:\n",
    "    result = 10 + int(10)\n",
    "except:\n",
    "    print('You are not adding correctly')\n",
    "else:\n",
    "    print('The sum is working')\n",
    "    print(result)"
   ]
  },
  {
   "cell_type": "code",
   "execution_count": null,
   "metadata": {},
   "outputs": [],
   "source": [
    "#check the exempitons in the python documentation\n",
    "try:\n",
    "    f = open('textfile','w')\n",
    "    f.write('write a text line')\n",
    "except TypeError:\n",
    "    print('There is a type error on your code')\n",
    "except OSError:\n",
    "    print('There is a OSError on your code')\n",
    "finally:\n",
    "    print('I always run!')\n",
    "    "
   ]
  },
  {
   "cell_type": "code",
   "execution_count": null,
   "metadata": {},
   "outputs": [],
   "source": [
    "def ask_for_an_int():\n",
    "    try:\n",
    "        number = int(input('Include a number: '))\n",
    "    except:\n",
    "        \n",
    "        print('That is not a number')\n",
    "    finally:\n",
    "        \n",
    "        print('End of Try/Except/Finally/')"
   ]
  },
  {
   "cell_type": "code",
   "execution_count": null,
   "metadata": {},
   "outputs": [],
   "source": [
    "ask_for_an_int()"
   ]
  },
  {
   "cell_type": "code",
   "execution_count": null,
   "metadata": {},
   "outputs": [],
   "source": []
  },
  {
   "cell_type": "code",
   "execution_count": null,
   "metadata": {},
   "outputs": [],
   "source": []
  }
 ],
 "metadata": {
  "kernelspec": {
   "display_name": "Python 3",
   "language": "python",
   "name": "python3"
  },
  "language_info": {
   "codemirror_mode": {
    "name": "ipython",
    "version": 3
   },
   "file_extension": ".py",
   "mimetype": "text/x-python",
   "name": "python",
   "nbconvert_exporter": "python",
   "pygments_lexer": "ipython3",
   "version": "3.6.7"
  }
 },
 "nbformat": 4,
 "nbformat_minor": 2
}
