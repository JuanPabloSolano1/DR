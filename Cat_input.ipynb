{
 "cells": [
  {
   "cell_type": "code",
   "execution_count": 1,
   "metadata": {},
   "outputs": [
    {
     "name": "stdout",
     "output_type": "stream",
     "text": [
      "Include the name of a cat # 1: juan\n",
      "Include the name of a cat # 2: pablo\n",
      "Include the name of a cat # 3: solano\n",
      "Include the name of a cat # 4: suarez\n",
      "Include the name of a cat # 5: erika\n",
      "Include the name of a cat # 6: sandberg\n",
      "Include the name of a cat # 7: andres\n",
      "Include the name of a cat # 8: pepe\n",
      "Include the name of a cat # 9: \n",
      "The cat names are:\n",
      "juan\n",
      "pablo\n",
      "solano\n",
      "suarez\n",
      "erika\n",
      "sandberg\n",
      "andres\n",
      "pepe\n"
     ]
    }
   ],
   "source": [
    "import sys\n",
    "new_list = []\n",
    "cats = raw_input('Include the name of a cat # {}: '.format(len(new_list)+1))\n",
    "new_list.append(cats)\n",
    "for cat in xrange(sys.maxint):\n",
    "    cats = raw_input('Include the name of a cat # {}: '.format(len(new_list)+ 1))\n",
    "    if cats not in new_list and cats != '':\n",
    "        new_list.append(cats)\n",
    "    else:\n",
    "        break\n",
    "print('The cat names are:')        \n",
    "for items in new_list:\n",
    "    print(items)"
   ]
  },
  {
   "cell_type": "code",
   "execution_count": null,
   "metadata": {},
   "outputs": [],
   "source": []
  }
 ],
 "metadata": {
  "kernelspec": {
   "display_name": "Python 2",
   "language": "python",
   "name": "python2"
  },
  "language_info": {
   "codemirror_mode": {
    "name": "ipython",
    "version": 2
   },
   "file_extension": ".py",
   "mimetype": "text/x-python",
   "name": "python",
   "nbconvert_exporter": "python",
   "pygments_lexer": "ipython2",
   "version": "2.7.13"
  }
 },
 "nbformat": 4,
 "nbformat_minor": 2
}
