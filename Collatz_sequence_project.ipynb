{
 "cells": [
  {
   "cell_type": "code",
   "execution_count": 3,
   "metadata": {},
   "outputs": [
    {
     "name": "stdout",
     "output_type": "stream",
     "text": [
      "Enter a number:\n",
      "3\n",
      "10\n",
      "5\n",
      "16\n",
      "8\n",
      "4\n",
      "2\n",
      "1\n"
     ]
    }
   ],
   "source": [
    "def collatz():\n",
    "    print('Enter a number:')\n",
    "    while True:\n",
    "        number = int(raw_input())\n",
    "        if number % 2 == 0 and number != 2:            \n",
    "            print (number / 2)\n",
    "            continue\n",
    "        elif number % 2 == 1 and number != 2:\n",
    "            print 3 * (number) + 1\n",
    "            continue    \n",
    "        else:\n",
    "            print (number / 2)\n",
    "            break\n",
    "                    \n",
    "collatz()"
   ]
  },
  {
   "cell_type": "code",
   "execution_count": null,
   "metadata": {},
   "outputs": [],
   "source": []
  }
 ],
 "metadata": {
  "kernelspec": {
   "display_name": "Python 2",
   "language": "python",
   "name": "python2"
  },
  "language_info": {
   "codemirror_mode": {
    "name": "ipython",
    "version": 2
   },
   "file_extension": ".py",
   "mimetype": "text/x-python",
   "name": "python",
   "nbconvert_exporter": "python",
   "pygments_lexer": "ipython2",
   "version": "2.7.13"
  }
 },
 "nbformat": 4,
 "nbformat_minor": 2
}
