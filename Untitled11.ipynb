{
 "cells": [
  {
   "cell_type": "code",
   "execution_count": 4,
   "metadata": {},
   "outputs": [
    {
     "name": "stdout",
     "output_type": "stream",
     "text": [
      "It is the year 2049. You are on a solo mission to restock the base on the moon with soil and seeds to grow more plants.\n",
      "You have just landed but you are in trouble. You have landed 300 kilometers from the moon base!\n",
      "You can get to the base in 3 days on your lunar rover\n",
      "The lunar rover can only fit you in your spacesuit and 4 other items\n",
      "Out of the items below, which do you bring?\n",
      "A: 3 litres of water\n",
      "B: Shampoo\n",
      "C: An extra Spacesuit\n",
      "D: A shovel\n",
      "E: A 10 day oxygen supply\n",
      "F: Solar panels\n",
      "G: The seeds for your mission\n",
      "H: The soil for your mission\n",
      "I: A 3 day food supply\n",
      "Type the letter of the 4 items you would like to bring seperated by commas.\n",
      " Do not add spacesEx: A,B,C,D\n",
      "Enter your choice:  A,I,F,E\n",
      "Excellent job you are now going to the moon and having\n",
      "the best time\n"
     ]
    }
   ],
   "source": [
    "print('It is the year 2049. You are on a solo mission to restock the base on the moon with soil and seeds to grow more plants.\\n'\n",
    "'You have just landed but you are in trouble. You have landed 300 kilometers from the moon base!\\n'\n",
    "'You can get to the base in 3 days on your lunar rover\\n'\n",
    "'The lunar rover can only fit you in your spacesuit and 4 other items\\n'\n",
    "'Out of the items below, which do you bring?')\n",
    "\n",
    "\n",
    "print('A: 3 litres of water')\n",
    "print('B: Shampoo')\n",
    "print('C: An extra Spacesuit')\n",
    "print('D: A shovel')\n",
    "print('E: A 10 day oxygen supply')\n",
    "print('F: Solar panels')\n",
    "print('G: The seeds for your mission')\n",
    "print('H: The soil for your mission')\n",
    "print('I: A 3 day food supply')\n",
    "\n",
    "print('Type the letter of the 4 items you would like to bring seperated by commas.\\n Do not add spaces'\n",
    "'Ex: A,B,C,D')\n",
    "\n",
    "options = str(raw_input('Enter your choice:  '))\n",
    "if 'A' not in options:\n",
    "   print('With water you cannot survive')\n",
    "if 'E' not in options:\n",
    "  print('Without oxygen you cannot live')\n",
    "if 'I' not in options:\n",
    "  print('Without food you cannot survive')\n",
    "if 'F' not in options:\n",
    "  print('Without solar panels your jeep is not working')\n",
    "if 'A' in options and 'E' in options and 'I' in options and 'F'  in options:\n",
    "  print('Excellent job you are now going to the moon and having\\nthe best time')\n",
    "else:\n",
    "  print('You did not pick the correct 4 items for survival. You will not make it safely to the moon base.')  \n",
    "   \n"
   ]
  },
  {
   "cell_type": "code",
   "execution_count": null,
   "metadata": {},
   "outputs": [],
   "source": []
  },
  {
   "cell_type": "code",
   "execution_count": null,
   "metadata": {},
   "outputs": [],
   "source": []
  }
 ],
 "metadata": {
  "kernelspec": {
   "display_name": "Python 2",
   "language": "python",
   "name": "python2"
  },
  "language_info": {
   "codemirror_mode": {
    "name": "ipython",
    "version": 2
   },
   "file_extension": ".py",
   "mimetype": "text/x-python",
   "name": "python",
   "nbconvert_exporter": "python",
   "pygments_lexer": "ipython2",
   "version": "2.7.13"
  }
 },
 "nbformat": 4,
 "nbformat_minor": 2
}
